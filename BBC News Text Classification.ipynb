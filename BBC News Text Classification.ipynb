{
 "cells": [
  {
   "cell_type": "markdown",
   "id": "dd7792f8-c51e-4745-a888-f7233ac4e8c9",
   "metadata": {},
   "source": [
    "# **Business Problem**\n",
    "\n",
    "The dataset contains 2,225 news articles with two columns:\n",
    "\n",
    "data - The news article text.\n",
    "\n",
    "labels - The category of the news article.\n",
    "\n",
    "Categories (Labels)\n",
    "\n",
    "The dataset appears to be from BBC News and categorizes articles into different topics such as:\n",
    "\n",
    "- Entertainment\n",
    "- Politics\n",
    "- Sport\n",
    "- Technology\n",
    "- Business"
   ]
  },
  {
   "cell_type": "markdown",
   "id": "b9edccb4-a162-4d7b-834f-5be6d8f45513",
   "metadata": {},
   "source": [
    "# **Loading the Data**"
   ]
  },
  {
   "cell_type": "code",
   "execution_count": 1,
   "id": "246276e8-7bf7-4c99-9ec1-b17294562192",
   "metadata": {},
   "outputs": [],
   "source": [
    "import pandas as pd \n",
    "import numpy as np\n",
    "import nltk\n",
    "import warnings\n",
    "warnings.filterwarnings('ignore')"
   ]
  },
  {
   "cell_type": "code",
   "execution_count": 2,
   "id": "3b57f015-0a9d-461f-a1a9-59d0dae652e4",
   "metadata": {},
   "outputs": [
    {
     "data": {
      "text/html": [
       "<div>\n",
       "<style scoped>\n",
       "    .dataframe tbody tr th:only-of-type {\n",
       "        vertical-align: middle;\n",
       "    }\n",
       "\n",
       "    .dataframe tbody tr th {\n",
       "        vertical-align: top;\n",
       "    }\n",
       "\n",
       "    .dataframe thead th {\n",
       "        text-align: right;\n",
       "    }\n",
       "</style>\n",
       "<table border=\"1\" class=\"dataframe\">\n",
       "  <thead>\n",
       "    <tr style=\"text-align: right;\">\n",
       "      <th></th>\n",
       "      <th>data</th>\n",
       "      <th>labels</th>\n",
       "    </tr>\n",
       "  </thead>\n",
       "  <tbody>\n",
       "    <tr>\n",
       "      <th>0</th>\n",
       "      <td>Musicians to tackle US red tape  Musicians gro...</td>\n",
       "      <td>entertainment</td>\n",
       "    </tr>\n",
       "    <tr>\n",
       "      <th>1</th>\n",
       "      <td>U2s desire to be number one  U2, who have won ...</td>\n",
       "      <td>entertainment</td>\n",
       "    </tr>\n",
       "    <tr>\n",
       "      <th>2</th>\n",
       "      <td>Rocker Doherty in on-stage fight  Rock singer ...</td>\n",
       "      <td>entertainment</td>\n",
       "    </tr>\n",
       "    <tr>\n",
       "      <th>3</th>\n",
       "      <td>Snicket tops US box office chart  The film ada...</td>\n",
       "      <td>entertainment</td>\n",
       "    </tr>\n",
       "    <tr>\n",
       "      <th>4</th>\n",
       "      <td>Oceans Twelve raids box office  Oceans Twelve,...</td>\n",
       "      <td>entertainment</td>\n",
       "    </tr>\n",
       "    <tr>\n",
       "      <th>...</th>\n",
       "      <td>...</td>\n",
       "      <td>...</td>\n",
       "    </tr>\n",
       "    <tr>\n",
       "      <th>2220</th>\n",
       "      <td>Warning over Windows Word files  Writing a Mic...</td>\n",
       "      <td>tech</td>\n",
       "    </tr>\n",
       "    <tr>\n",
       "      <th>2221</th>\n",
       "      <td>Fast lifts rise into record books  Two high-sp...</td>\n",
       "      <td>tech</td>\n",
       "    </tr>\n",
       "    <tr>\n",
       "      <th>2222</th>\n",
       "      <td>Nintendo adds media playing to DS  Nintendo is...</td>\n",
       "      <td>tech</td>\n",
       "    </tr>\n",
       "    <tr>\n",
       "      <th>2223</th>\n",
       "      <td>Fast moving phone viruses appear  Security fir...</td>\n",
       "      <td>tech</td>\n",
       "    </tr>\n",
       "    <tr>\n",
       "      <th>2224</th>\n",
       "      <td>Hacker threat to Apples iTunes  Users of Apple...</td>\n",
       "      <td>tech</td>\n",
       "    </tr>\n",
       "  </tbody>\n",
       "</table>\n",
       "<p>2225 rows × 2 columns</p>\n",
       "</div>"
      ],
      "text/plain": [
       "                                                   data         labels\n",
       "0     Musicians to tackle US red tape  Musicians gro...  entertainment\n",
       "1     U2s desire to be number one  U2, who have won ...  entertainment\n",
       "2     Rocker Doherty in on-stage fight  Rock singer ...  entertainment\n",
       "3     Snicket tops US box office chart  The film ada...  entertainment\n",
       "4     Oceans Twelve raids box office  Oceans Twelve,...  entertainment\n",
       "...                                                 ...            ...\n",
       "2220  Warning over Windows Word files  Writing a Mic...           tech\n",
       "2221  Fast lifts rise into record books  Two high-sp...           tech\n",
       "2222  Nintendo adds media playing to DS  Nintendo is...           tech\n",
       "2223  Fast moving phone viruses appear  Security fir...           tech\n",
       "2224  Hacker threat to Apples iTunes  Users of Apple...           tech\n",
       "\n",
       "[2225 rows x 2 columns]"
      ]
     },
     "execution_count": 2,
     "metadata": {},
     "output_type": "execute_result"
    }
   ],
   "source": [
    "df = pd.read_csv('bbc_data.csv')\n",
    "df"
   ]
  },
  {
   "cell_type": "markdown",
   "id": "bda4773e-acf8-488c-b0f7-904150c86b0b",
   "metadata": {},
   "source": [
    "# **Data Exploration**"
   ]
  },
  {
   "cell_type": "code",
   "execution_count": 3,
   "id": "53bac38b-205d-405b-b5e6-6cc67b39ef76",
   "metadata": {},
   "outputs": [
    {
     "data": {
      "text/plain": [
       "(2225, 2)"
      ]
     },
     "execution_count": 3,
     "metadata": {},
     "output_type": "execute_result"
    }
   ],
   "source": [
    "df.shape"
   ]
  },
  {
   "cell_type": "code",
   "execution_count": 4,
   "id": "ff9b2189-93bd-4a1a-9ee4-c1cf0f0ce7de",
   "metadata": {},
   "outputs": [
    {
     "data": {
      "text/plain": [
       "data      object\n",
       "labels    object\n",
       "dtype: object"
      ]
     },
     "execution_count": 4,
     "metadata": {},
     "output_type": "execute_result"
    }
   ],
   "source": [
    "df.dtypes"
   ]
  },
  {
   "cell_type": "code",
   "execution_count": 5,
   "id": "efcefbed-29f3-4ba0-b7e5-8d01639e57f1",
   "metadata": {},
   "outputs": [
    {
     "data": {
      "text/plain": [
       "data      0\n",
       "labels    0\n",
       "dtype: int64"
      ]
     },
     "execution_count": 5,
     "metadata": {},
     "output_type": "execute_result"
    }
   ],
   "source": [
    "df.isnull().sum()"
   ]
  },
  {
   "cell_type": "code",
   "execution_count": 6,
   "id": "3a91f9b6-6639-4a2e-85ce-8554c036d503",
   "metadata": {},
   "outputs": [
    {
     "data": {
      "text/plain": [
       "np.int64(99)"
      ]
     },
     "execution_count": 6,
     "metadata": {},
     "output_type": "execute_result"
    }
   ],
   "source": [
    "df.duplicated().sum()"
   ]
  },
  {
   "cell_type": "markdown",
   "id": "d9741862-b4f1-425b-9ccf-52015bae596d",
   "metadata": {},
   "source": [
    "# **Data (Text) Preprocessing**"
   ]
  },
  {
   "cell_type": "markdown",
   "id": "89f3853f-f6de-4b00-a88a-5d87bcee472b",
   "metadata": {},
   "source": [
    "**Text Cleaning**"
   ]
  },
  {
   "cell_type": "code",
   "execution_count": 7,
   "id": "6884a02b-3bbd-404b-9cc9-90162a7e4a89",
   "metadata": {},
   "outputs": [],
   "source": [
    "df = df.drop_duplicates()"
   ]
  },
  {
   "cell_type": "code",
   "execution_count": 8,
   "id": "c2137717-d61d-447b-9fbe-eeeb7de2ff39",
   "metadata": {
    "scrolled": true
   },
   "outputs": [],
   "source": [
    "import re\n",
    "from nltk.corpus import stopwords\n",
    "from nltk.stem import PorterStemmer\n",
    "\n",
    "stemmer = PorterStemmer()\n",
    "\n",
    "corpus = []\n",
    "for news in df['data'].tolist():\n",
    "  l = re.sub('[^a-zA-Z0-9]', ' ', news)\n",
    "  l = l.lower()\n",
    "  l = l.split()\n",
    "  l1 = [stemmer.stem(i) for i in l if i not in stopwords.words('english')]\n",
    "  l = ' '.join(l1)\n",
    "  corpus.append(l)"
   ]
  },
  {
   "cell_type": "markdown",
   "id": "05c89a07-1cf4-42fc-a27f-5258ac473420",
   "metadata": {},
   "source": [
    "**Train Test Split**"
   ]
  },
  {
   "cell_type": "code",
   "execution_count": 9,
   "id": "fbe2f2bb-aa56-4842-89e5-904e9bd230fd",
   "metadata": {},
   "outputs": [],
   "source": [
    "from sklearn.model_selection import train_test_split\n",
    "\n",
    "X_train, X_test, y_train, y_test = train_test_split(corpus, df['labels'], test_size = 0.2, random_state = 42)"
   ]
  },
  {
   "cell_type": "markdown",
   "id": "4a9ef2c2-6913-4257-95d4-36b1cd1f0316",
   "metadata": {},
   "source": [
    "**Vectorization**"
   ]
  },
  {
   "cell_type": "code",
   "execution_count": 10,
   "id": "af7bac2b-806d-4593-a12a-26c966610b87",
   "metadata": {},
   "outputs": [],
   "source": [
    "from sklearn.feature_extraction.text import CountVectorizer\n",
    "\n",
    "vectorizer = CountVectorizer()\n",
    "X_train = pd.DataFrame(vectorizer.fit_transform(X_train).toarray(), columns = vectorizer.get_feature_names_out())\n",
    "X_test = pd.DataFrame(vectorizer.transform(X_test).toarray(), columns = vectorizer.get_feature_names_out())"
   ]
  },
  {
   "cell_type": "markdown",
   "id": "cc374514-de67-4d9a-8c90-3754a8ac059e",
   "metadata": {},
   "source": [
    "# **Modelling**"
   ]
  },
  {
   "cell_type": "markdown",
   "id": "9a36b52a-9d4d-41d0-bc9b-f33d6cdc8d20",
   "metadata": {},
   "source": [
    "**Naive Bayes**"
   ]
  },
  {
   "cell_type": "code",
   "execution_count": 11,
   "id": "c84faade-1552-45f5-aadd-c78f24b47254",
   "metadata": {},
   "outputs": [
    {
     "name": "stdout",
     "output_type": "stream",
     "text": [
      "Accuracy(Train):  0.9929411764705882\n",
      "Accuracy(Test):  0.9671361502347418\n"
     ]
    }
   ],
   "source": [
    "#Modelling\n",
    "from sklearn.naive_bayes import MultinomialNB\n",
    "\n",
    "model = MultinomialNB()\n",
    "model.fit(X_train, y_train)\n",
    "\n",
    "#Prediction\n",
    "ypred_train = model.predict(X_train)\n",
    "ypred_test = model.predict(X_test)\n",
    "\n",
    "#Evaluation\n",
    "from sklearn.metrics import accuracy_score\n",
    "\n",
    "accuracy_train = accuracy_score(y_train, ypred_train)\n",
    "accuracy_test = accuracy_score(y_test, ypred_test)\n",
    "\n",
    "print('Accuracy(Train): ', accuracy_train)\n",
    "print('Accuracy(Test): ', accuracy_test)"
   ]
  },
  {
   "cell_type": "markdown",
   "id": "aab30326-24ed-4cb0-9658-5135d6bdf518",
   "metadata": {},
   "source": [
    "**SVM**"
   ]
  },
  {
   "cell_type": "code",
   "execution_count": 12,
   "id": "22120bde-0175-44ea-ab32-bdf809a72e10",
   "metadata": {},
   "outputs": [
    {
     "name": "stdout",
     "output_type": "stream",
     "text": [
      "Accuracy(Train):  0.9982352941176471\n",
      "Accuracy(Test):  0.9553990610328639\n"
     ]
    }
   ],
   "source": [
    "from sklearn.svm import SVC\n",
    "\n",
    "model = SVC(random_state = True)\n",
    "model.fit(X_train, y_train)\n",
    "\n",
    "#Prediction\n",
    "ypred_train = model.predict(X_train)\n",
    "ypred_test = model.predict(X_test)\n",
    "\n",
    "#Evaluation\n",
    "from sklearn.metrics import accuracy_score\n",
    "\n",
    "accuracy_train = accuracy_score(y_train, ypred_train)\n",
    "accuracy_test = accuracy_score(y_test, ypred_test)\n",
    "\n",
    "print('Accuracy(Train): ', accuracy_train)\n",
    "print('Accuracy(Test): ', accuracy_test)"
   ]
  },
  {
   "cell_type": "markdown",
   "id": "eaf06614-f980-4b73-a3f3-7a9f134be3e8",
   "metadata": {},
   "source": [
    "**Random Forest**"
   ]
  },
  {
   "cell_type": "code",
   "execution_count": 13,
   "id": "1368cd5f-0a04-4778-9fdf-92031aa4646f",
   "metadata": {},
   "outputs": [
    {
     "name": "stdout",
     "output_type": "stream",
     "text": [
      "Accuracy(Train):  1.0\n",
      "Accuracy(Test):  0.9624413145539906\n"
     ]
    }
   ],
   "source": [
    "from sklearn.ensemble import RandomForestClassifier\n",
    "\n",
    "model = RandomForestClassifier(random_state = True)\n",
    "model.fit(X_train, y_train)\n",
    "\n",
    "#Prediction\n",
    "ypred_train = model.predict(X_train)\n",
    "ypred_test = model.predict(X_test)\n",
    "\n",
    "#Evaluation\n",
    "from sklearn.metrics import accuracy_score\n",
    "\n",
    "accuracy_train = accuracy_score(y_train, ypred_train)\n",
    "accuracy_test = accuracy_score(y_test, ypred_test)\n",
    "\n",
    "print('Accuracy(Train): ', accuracy_train)\n",
    "print('Accuracy(Test): ', accuracy_test)"
   ]
  },
  {
   "cell_type": "markdown",
   "id": "7ece1863-e927-46c3-ad3b-d1b8d68d4457",
   "metadata": {},
   "source": [
    "**Decision Tree**"
   ]
  },
  {
   "cell_type": "code",
   "execution_count": 14,
   "id": "6c2b7a6c-8ffc-416d-98d3-53eb270c33fb",
   "metadata": {},
   "outputs": [
    {
     "name": "stdout",
     "output_type": "stream",
     "text": [
      "Accuracy(Train):  1.0\n",
      "Accuracy(Test):  0.8356807511737089\n"
     ]
    }
   ],
   "source": [
    "from sklearn.tree import DecisionTreeClassifier\n",
    "\n",
    "model = DecisionTreeClassifier(random_state = True)\n",
    "model.fit(X_train, y_train)\n",
    "\n",
    "#Prediction\n",
    "ypred_train = model.predict(X_train)\n",
    "ypred_test = model.predict(X_test)\n",
    "\n",
    "#Evaluation\n",
    "from sklearn.metrics import accuracy_score\n",
    "\n",
    "accuracy_train = accuracy_score(y_train, ypred_train)\n",
    "accuracy_test = accuracy_score(y_test, ypred_test)\n",
    "\n",
    "print('Accuracy(Train): ', accuracy_train)\n",
    "print('Accuracy(Test): ', accuracy_test)"
   ]
  },
  {
   "cell_type": "code",
   "execution_count": null,
   "id": "cf90f2b5-6ee4-4b0f-b79a-1f752ef3c9c0",
   "metadata": {},
   "outputs": [],
   "source": []
  }
 ],
 "metadata": {
  "kernelspec": {
   "display_name": "Python 3 (ipykernel)",
   "language": "python",
   "name": "python3"
  },
  "language_info": {
   "codemirror_mode": {
    "name": "ipython",
    "version": 3
   },
   "file_extension": ".py",
   "mimetype": "text/x-python",
   "name": "python",
   "nbconvert_exporter": "python",
   "pygments_lexer": "ipython3",
   "version": "3.11.9"
  },
  "widgets": {
   "application/vnd.jupyter.widget-state+json": {
    "state": {},
    "version_major": 2,
    "version_minor": 0
   }
  }
 },
 "nbformat": 4,
 "nbformat_minor": 5
}
